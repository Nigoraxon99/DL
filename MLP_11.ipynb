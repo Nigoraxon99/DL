{
 "cells": [
  {
   "cell_type": "code",
   "execution_count": 6,
   "id": "f039544a-9c3f-4900-9003-aef299b72a2f",
   "metadata": {},
   "outputs": [
    {
     "name": "stdout",
     "output_type": "stream",
     "text": [
      "[[0.05672183]]\n"
     ]
    }
   ],
   "source": [
    "import tensorflow as tf\n",
    "\n",
    "# Define the input data\n",
    "x_data = tf.constant([[0,0], [1,0], [0,1], [1,1]], dtype=tf.float32)\n",
    "\n",
    "# Define the target output data\n",
    "y_data = tf.constant([[0], [1], [1], [0]], dtype=tf.float32)\n",
    "\n",
    "# Define the weights and biases for the first hidden layer\n",
    "W1 = tf.Variable(tf.random.uniform([2, 2], -1, 1), dtype=tf.float32)\n",
    "b1 = tf.Variable(tf.random.uniform([2], -1, 1), dtype=tf.float32)\n",
    "\n",
    "# Define the weights and biases for the output layer\n",
    "W2 = tf.Variable(tf.random.uniform([2, 1], -1, 1), dtype=tf.float32)\n",
    "b2 = tf.Variable(tf.random.uniform([1], -1, 1), dtype=tf.float32)\n",
    "\n",
    "# Define the activation function (sigmoid)\n",
    "def sigmoid(x):\n",
    "    return 1 / (1 + tf.exp(-x))\n",
    "\n",
    "# Define the forward propagation function\n",
    "def forward(x):\n",
    "    # First hidden layer\n",
    "    h = sigmoid(tf.matmul(x, W1) + b1)\n",
    "    # Output layer\n",
    "    y = sigmoid(tf.matmul(h, W2) + b2)\n",
    "    return y\n",
    "\n",
    "# Define the loss function (mean squared error)\n",
    "def loss(y_pred, y_true):\n",
    "    return tf.reduce_mean(tf.square(y_pred - y_true))\n",
    "\n",
    "# Define the optimizer (Adam)\n",
    "optimizer = tf.optimizers.Adam()\n",
    "\n",
    "# Training loop\n",
    "for epoch in range(10000):\n",
    "    with tf.GradientTape() as tape:\n",
    "        y_pred = forward(x_data)\n",
    "        current_loss = loss(y_pred, y_data)\n",
    "    grads = tape.gradient(current_loss, [W1, b1, W2, b2])\n",
    "    optimizer.apply_gradients(zip(grads, [W1, b1, W2, b2]))\n",
    "    \n",
    "# Predict new data\n",
    "test_data = tf.constant([[0.5, 0.5]], dtype=tf.float32)\n",
    "prediction = forward(test_data)\n",
    "print(prediction.numpy())"
   ]
  },
  {
   "cell_type": "code",
   "execution_count": null,
   "id": "73935cc8-a9e9-4a90-af10-823616019441",
   "metadata": {},
   "outputs": [],
   "source": []
  }
 ],
 "metadata": {
  "kernelspec": {
   "display_name": "Python 3",
   "language": "python",
   "name": "python3"
  },
  "language_info": {
   "codemirror_mode": {
    "name": "ipython",
    "version": 3
   },
   "file_extension": ".py",
   "mimetype": "text/x-python",
   "name": "python",
   "nbconvert_exporter": "python",
   "pygments_lexer": "ipython3",
   "version": "3.9.16"
  }
 },
 "nbformat": 4,
 "nbformat_minor": 5
}
