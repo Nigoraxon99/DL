{
 "cells": [
  {
   "cell_type": "code",
   "execution_count": 2,
   "id": "ec572924-242c-439c-9e5c-b3d08fe70975",
   "metadata": {
    "tags": []
   },
   "outputs": [
    {
     "name": "stdout",
     "output_type": "stream",
     "text": [
      "1/1 [==============================] - 0s 59ms/step\n",
      "[1, 1, 1, 1, 1, 1, 1, 1, 0]\n"
     ]
    }
   ],
   "source": [
    "import tensorflow as tf\n",
    "\n",
    "# Define the input layer\n",
    "inputs = tf.keras.Input(shape=(2,))\n",
    "\n",
    "# Define the hidden layers\n",
    "x = tf.keras.layers.Dense(16, activation='relu')(inputs)\n",
    "x = tf.keras.layers.Dense(16, activation='relu')(x)\n",
    "x = tf.keras.layers.Dense(16, activation='relu')(x)\n",
    "\n",
    "# Define the output layer\n",
    "outputs = tf.keras.layers.Dense(1, activation='sigmoid')(x)\n",
    "\n",
    "# Define the model\n",
    "model = tf.keras.Model(inputs=inputs, outputs=outputs)\n",
    "\n",
    "# Compile the model with binary crossentropy loss and Adam optimizer\n",
    "model.compile(loss='binary_crossentropy', optimizer='adam', metrics=['accuracy'])\n",
    "\n",
    "# Define the training data and labels\n",
    "X_train = [[0, 0], [0, 1], [1, 0], [2, 0], [2, 1], [2, 2], [1, 2], [0, 2], [1, 1]]\n",
    "y_train = [1, 1, 1, 1, 1, 1, 1, 1, 0]\n",
    "\n",
    "# Train the model\n",
    "model.fit(X_train, y_train, epochs=1000, verbose=0)\n",
    "\n",
    "# Define the test data\n",
    "X_test = [[0, 0], [0, 1], [1, 0], [2, 0], [2, 1], [2, 2], [1, 2], [0, 2], [1, 1]]\n",
    "\n",
    "# Predict the labels for the test data\n",
    "y_pred = model.predict(X_test)\n",
    "\n",
    "# Convert the predicted probabilities to labels\n",
    "y_pred_labels = [1 if pred >= 0.5 else 0 for pred in y_pred]\n",
    "\n",
    "# Print the predicted labels\n",
    "print(y_pred_labels)"
   ]
  },
  {
   "cell_type": "code",
   "execution_count": null,
   "id": "56701831-1df5-4690-a7f8-db04370a5b53",
   "metadata": {},
   "outputs": [],
   "source": []
  }
 ],
 "metadata": {
  "kernelspec": {
   "display_name": "Python 3",
   "language": "python",
   "name": "python3"
  },
  "language_info": {
   "codemirror_mode": {
    "name": "ipython",
    "version": 3
   },
   "file_extension": ".py",
   "mimetype": "text/x-python",
   "name": "python",
   "nbconvert_exporter": "python",
   "pygments_lexer": "ipython3",
   "version": "3.9.16"
  }
 },
 "nbformat": 4,
 "nbformat_minor": 5
}
