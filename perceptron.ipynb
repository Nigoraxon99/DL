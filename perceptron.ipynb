{
 "cells": [
  {
   "cell_type": "code",
   "execution_count": 2,
   "id": "c11362bb-0c8e-4296-a66a-dad1d9c9055f",
   "metadata": {},
   "outputs": [
    {
     "name": "stdout",
     "output_type": "stream",
     "text": [
      "[-0.07565464 -0.31175641  0.37182825]\n"
     ]
    }
   ],
   "source": [
    "''' Student: Murodkhuja. Student number: 20235082. Class name: Deep Learning \n",
    "Assignment2. Ex.9. Construct a Perceptron which classifies the points (0,0;1), \n",
    "(1,0;1), (0,1;1), (1,1;0), and (0,2;0) correctly. \n",
    "Describe how typical steps of the Perceptron learning look like for this data set.\n",
    "'''\n",
    "import numpy as np\n",
    "\n",
    "# Define the input data points and their corresponding labels\n",
    "X = np.array([[0, 0, 1], [1, 0, 1], [0, 1, 1], [1, 1, 1], [0, 2, 1]])\n",
    "y = np.array([1, 1, 1, 0, 0])\n",
    "\n",
    "# Define the Perceptron function\n",
    "def perceptron(X, y, learning_rate=0.1, epochs=100):\n",
    "    # Initialize the weights to small random values\n",
    "    np.random.seed(1)\n",
    "    w = np.random.randn(X.shape[1])\n",
    "    \n",
    "    # Iterate over the specified number of epochs\n",
    "    for i in range(epochs):\n",
    "        # Iterate over each data point\n",
    "        for j in range(X.shape[0]):\n",
    "            # Calculate the dot product of the weights and the input data\n",
    "            z = np.dot(X[j], w)\n",
    "            \n",
    "            # Calculate the predicted label (1 or 0) using a step function\n",
    "            y_pred = 1 if z > 0 else 0\n",
    "            \n",
    "            # Update the weights if the predicted label does not match the actual label\n",
    "            if y[j] != y_pred:\n",
    "                error = y[j] - y_pred\n",
    "                w += learning_rate * error * X[j]\n",
    "    \n",
    "    return w\n",
    "\n",
    "# Call the Perceptron function to train the model\n",
    "w = perceptron(X, y)\n",
    "\n",
    "# Print the weights\n",
    "print(w)"
   ]
  },
  {
   "cell_type": "code",
   "execution_count": null,
   "id": "9f80186b-f0bb-47c5-bc3a-d7c92aabafc1",
   "metadata": {},
   "outputs": [],
   "source": []
  },
  {
   "cell_type": "code",
   "execution_count": null,
   "id": "c7c2e3fd-73ed-453d-ada5-d7bbcbaa3c46",
   "metadata": {},
   "outputs": [],
   "source": []
  }
 ],
 "metadata": {
  "kernelspec": {
   "display_name": "Python 3",
   "language": "python",
   "name": "python3"
  },
  "language_info": {
   "codemirror_mode": {
    "name": "ipython",
    "version": 3
   },
   "file_extension": ".py",
   "mimetype": "text/x-python",
   "name": "python",
   "nbconvert_exporter": "python",
   "pygments_lexer": "ipython3",
   "version": "3.9.16"
  }
 },
 "nbformat": 4,
 "nbformat_minor": 5
}
