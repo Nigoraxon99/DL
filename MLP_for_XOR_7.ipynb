{
 "cells": [
  {
   "cell_type": "code",
   "execution_count": 3,
   "id": "9387f119-d33c-4226-bf42-43101ad8187f",
   "metadata": {},
   "outputs": [
    {
     "name": "stdout",
     "output_type": "stream",
     "text": [
      "Training data:\n",
      "1/1 [==============================] - 0s 86ms/step - loss: 0.7649 - accuracy: 0.5000\n",
      "1/1 [==============================] - 0s 27ms/step\n",
      "Predictions:\n",
      "[[0.66767615]\n",
      " [0.6816316 ]\n",
      " [0.68481535]\n",
      " [0.6976082 ]]\n"
     ]
    }
   ],
   "source": [
    "import tensorflow as tf\n",
    "\n",
    "# Define the initial weights and threshold levels\n",
    "w13 = 0.6\n",
    "w14 = 0.8\n",
    "w23 = 0.3\n",
    "w24 = 1.1\n",
    "w35 = 1.2\n",
    "w45 = 1.0\n",
    "theta3 = 0.7\n",
    "theta4 = 0.2\n",
    "theta5 = 0.4\n",
    "\n",
    "# Define the input layer\n",
    "inputs = tf.keras.Input(shape=(2,))\n",
    "\n",
    "# Define the hidden layer\n",
    "h1 = tf.keras.layers.Dense(2, activation='sigmoid',\n",
    "                           bias_initializer=tf.keras.initializers.Constant(-theta3),\n",
    "                           kernel_initializer=tf.keras.initializers.Constant([[w13, w23], [w14, w24]]))(inputs)\n",
    "\n",
    "# Define the output layer\n",
    "outputs = tf.keras.layers.Dense(1, activation='sigmoid',\n",
    "                                bias_initializer=tf.keras.initializers.Constant(-theta5),\n",
    "                                kernel_initializer=tf.keras.initializers.Constant([[w35], [w45]]))(h1)\n",
    "\n",
    "# Define the model\n",
    "model = tf.keras.Model(inputs=inputs, outputs=outputs)\n",
    "\n",
    "# Compile the model with binary crossentropy loss and Adam optimizer\n",
    "model.compile(loss='binary_crossentropy', optimizer='adam', metrics=['accuracy'])\n",
    "\n",
    "# Define the training data and labels for the XOR function\n",
    "X_train = [[0, 0], [0, 1], [1, 0], [1, 1]]\n",
    "y_train = [0, 1, 1, 0]\n",
    "\n",
    "# Train the model\n",
    "model.fit(X_train, y_train, epochs=1000, verbose=0)\n",
    "\n",
    "# Define the test data for the XOR function\n",
    "X_test = [[0, 0], [0, 1], [1, 0], [1, 1]]\n",
    "\n",
    "# Predict the labels for the test data\n",
    "y_pred = model.predict(X_test)\n",
    "\n",
    "# Convert the predicted probabilities to labels\n",
    "y_pred_labels = [1 if pred >= 0.5 else 0 for pred in y_pred]\n",
    "\n",
    "# Print the predicted labels\n",
    "print(y_pred_labels)"
   ]
  },
  {
   "cell_type": "code",
   "execution_count": null,
   "id": "2df984d4-fb5f-424f-b936-9722d77c820e",
   "metadata": {},
   "outputs": [],
   "source": []
  }
 ],
 "metadata": {
  "kernelspec": {
   "display_name": "Python 3",
   "language": "python",
   "name": "python3"
  },
  "language_info": {
   "codemirror_mode": {
    "name": "ipython",
    "version": 3
   },
   "file_extension": ".py",
   "mimetype": "text/x-python",
   "name": "python",
   "nbconvert_exporter": "python",
   "pygments_lexer": "ipython3",
   "version": "3.9.16"
  }
 },
 "nbformat": 4,
 "nbformat_minor": 5
}
